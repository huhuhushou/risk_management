{
 "cells": [
  {
   "cell_type": "code",
   "execution_count": 4,
   "id": "f09cffb3",
   "metadata": {},
   "outputs": [
    {
     "name": "stderr",
     "output_type": "stream",
     "text": [
      "/opt/anaconda3/envs/pytorch/lib/python3.10/site-packages/tqdm/auto.py:21: TqdmWarning: IProgress not found. Please update jupyter and ipywidgets. See https://ipywidgets.readthedocs.io/en/stable/user_install.html\n",
      "  from .autonotebook import tqdm as notebook_tqdm\n"
     ]
    }
   ],
   "source": [
    "from to_vector import RiskDataProcessor\n",
    "import numpy as np\n",
    "import xgboost as xgb\n",
    "from sklearn.model_selection import train_test_split\n",
    "from sklearn.preprocessing import LabelEncoder\n",
    "from tqdm.auto import tqdm\n",
    "\n",
    "import datetime"
   ]
  },
  {
   "cell_type": "code",
   "execution_count": 5,
   "id": "deb58d25",
   "metadata": {},
   "outputs": [
    {
     "name": "stderr",
     "output_type": "stream",
     "text": [
      "Loading Data: 100%|██████████| 109/109 [00:00<00:00, 2563.97it/s]"
     ]
    },
    {
     "name": "stdout",
     "output_type": "stream",
     "text": [
      "特征矩阵形状: (109, 517)\n",
      "特征矩阵类型: <class 'numpy.ndarray'>\n",
      "标签形状: (109,)\n",
      "标签类型: <class 'numpy.ndarray'>\n",
      "['B' 'A' 'C' 'B' 'D' 'A' 'B' 'A' 'A' 'B']\n"
     ]
    },
    {
     "name": "stderr",
     "output_type": "stream",
     "text": [
      "\n"
     ]
    }
   ],
   "source": [
    "# 配置路径\n",
    "DATA_DIR = \"/Users/mac/Desktop/risk-management/filtered_companys_adjusted\"\n",
    "# 初始化处理器\n",
    "processor = RiskDataProcessor()\n",
    "    \n",
    "# 加载数据集\n",
    "df = processor.create_dataset()\n",
    "    \n",
    "# 提取特征和标签\n",
    "y = processor.process_labels(df[\"工商信息->工商信息->天眼评分\"])\n",
    "X = df.drop(\"工商信息->工商信息->天眼评分\", axis=1)\n",
    "    \n",
    "# 执行特征转换\n",
    "X_transformed = processor.get_feature_pipeline().fit_transform(X)\n",
    "X = X_transformed.toarray()\n",
    "y = np.array(y.values)\n",
    "\n",
    "print(\"特征矩阵形状:\", X.shape)\n",
    "print(\"特征矩阵类型:\", type(X))\n",
    "\n",
    "print(\"标签形状:\", y.shape)\n",
    "print(\"标签类型:\", type(y))\n",
    "print(y[:10])"
   ]
  },
  {
   "cell_type": "code",
   "execution_count": 13,
   "id": "37a09d36",
   "metadata": {},
   "outputs": [
    {
     "name": "stdout",
     "output_type": "stream",
     "text": [
      "训练集大小: 76\n",
      "测试集大小: 33\n",
      "[0]\ttrain-merror:0.07895\ttrain-mlogloss:1.23813\tval-merror:0.18182\tval-mlogloss:1.24904\n",
      "[10]\ttrain-merror:0.02632\ttrain-mlogloss:0.47073\tval-merror:0.03030\tval-mlogloss:0.52020\n",
      "[20]\ttrain-merror:0.02632\ttrain-mlogloss:0.22784\tval-merror:0.03030\tval-mlogloss:0.29789\n",
      "[30]\ttrain-merror:0.02632\ttrain-mlogloss:0.13464\tval-merror:0.03030\tval-mlogloss:0.22613\n",
      "[40]\ttrain-merror:0.02632\ttrain-mlogloss:0.08868\tval-merror:0.03030\tval-mlogloss:0.19713\n",
      "[50]\ttrain-merror:0.00000\ttrain-mlogloss:0.06841\tval-merror:0.03030\tval-mlogloss:0.19192\n",
      "[60]\ttrain-merror:0.00000\ttrain-mlogloss:0.05760\tval-merror:0.03030\tval-mlogloss:0.19588\n",
      "[68]\ttrain-merror:0.00000\ttrain-mlogloss:0.05369\tval-merror:0.03030\tval-mlogloss:0.19555\n",
      "\n",
      "Classification Report:\n",
      "              precision    recall  f1-score   support\n",
      "\n",
      "           A       1.00      1.00      1.00         9\n",
      "           B       1.00      1.00      1.00        18\n",
      "           C       0.83      1.00      0.91         5\n",
      "           D       0.00      0.00      0.00         1\n",
      "\n",
      "    accuracy                           0.97        33\n",
      "   macro avg       0.71      0.75      0.73        33\n",
      "weighted avg       0.94      0.97      0.96        33\n",
      "\n"
     ]
    },
    {
     "name": "stderr",
     "output_type": "stream",
     "text": [
      "/opt/anaconda3/envs/pytorch/lib/python3.10/site-packages/sklearn/metrics/_classification.py:1565: UndefinedMetricWarning: Precision is ill-defined and being set to 0.0 in labels with no predicted samples. Use `zero_division` parameter to control this behavior.\n",
      "  _warn_prf(average, modifier, f\"{metric.capitalize()} is\", len(result))\n",
      "/opt/anaconda3/envs/pytorch/lib/python3.10/site-packages/sklearn/metrics/_classification.py:1565: UndefinedMetricWarning: Precision is ill-defined and being set to 0.0 in labels with no predicted samples. Use `zero_division` parameter to control this behavior.\n",
      "  _warn_prf(average, modifier, f\"{metric.capitalize()} is\", len(result))\n",
      "/opt/anaconda3/envs/pytorch/lib/python3.10/site-packages/sklearn/metrics/_classification.py:1565: UndefinedMetricWarning: Precision is ill-defined and being set to 0.0 in labels with no predicted samples. Use `zero_division` parameter to control this behavior.\n",
      "  _warn_prf(average, modifier, f\"{metric.capitalize()} is\", len(result))\n"
     ]
    },
    {
     "data": {
      "image/png": "[encoded data removed]",
      "text/plain": [
       "<Figure size 800x600 with 2 Axes>"
      ]
     },
     "metadata": {},
     "output_type": "display_data"
    },
    {
     "name": "stdout",
     "output_type": "stream",
     "text": [
      "训练完成！模型已保存为 xgboost_cpu_model.json\n"
     ]
    }
   ],
   "source": [
    "import numpy as np\n",
    "\n",
    "from sklearn.model_selection import train_test_split\n",
    "from sklearn.preprocessing import LabelEncoder\n",
    "from tqdm.auto import tqdm\n",
    "from torch.utils.tensorboard import SummaryWriter\n",
    "import datetime\n",
    "from sklearn.metrics import classification_report, confusion_matrix\n",
    "import matplotlib.pyplot as plt\n",
    "import seaborn as sns\n",
    "\n",
    "# ---------------------------------------------------\n",
    "# 标签编码（显式映射）\n",
    "# ---------------------------------------------------\n",
    "# 创建可解释的标签映射\n",
    "label_mapping = {'A': 0, 'B': 1, 'C': 2, 'D': 3}\n",
    "reverse_mapping = {v: k for k, v in label_mapping.items()}\n",
    "\n",
    "# 转换标签\n",
    "y_encoded = np.array([label_mapping[label] for label in y])\n",
    "\n",
    "# 验证标签完整性\n",
    "unique_labels = np.unique(y)\n",
    "assert set(unique_labels).issubset(label_mapping.keys()), f\"发现未定义标签: {set(unique_labels) - set(label_mapping.keys())}\"\n",
    "\n",
    "# ---------------------------------------------------\n",
    "# 数据划分\n",
    "# ---------------------------------------------------\n",
    "X_train, X_test, y_train, y_test = train_test_split(\n",
    "    X, \n",
    "    y_encoded,\n",
    "    test_size=0.3,\n",
    "    random_state=42\n",
    ")\n",
    "print(f\"训练集大小: {len(X_train)}\")\n",
    "print(f\"测试集大小: {len(X_test)}\")\n",
    "\n",
    "# ---------------------------------------------------\n",
    "# TensorBoard 日志配置\n",
    "# ---------------------------------------------------\n",
    "log_dir = f\"logs/xgboost/{datetime.datetime.now().strftime('%Y%m%d-%H%M%S')}\"\n",
    "writer = SummaryWriter(log_dir)\n",
    "\n",
    "# ---------------------------------------------------\n",
    "# XGBoost 配置（CPU优化）\n",
    "# ---------------------------------------------------\n",
    "params = {\n",
    "    'objective': 'multi:softmax',\n",
    "    'num_class': 4,\n",
    "    'tree_method': 'hist',  # 强制使用CPU\n",
    "    'max_depth': 3,\n",
    "    'eta': 0.1,\n",
    "    'subsample': 0.8,\n",
    "    'colsample_bytree': 0.8,\n",
    "    'eval_metric': ['merror', 'mlogloss'],\n",
    "    'seed': 42\n",
    "}\n",
    "\n",
    "# ---------------------------------------------------\n",
    "# 训练回调函数\n",
    "# ---------------------------------------------------\n",
    "class TensorBoardCallback(xgb.callback.TrainingCallback):\n",
    "    def __init__(self, validation):\n",
    "        self.validation = validation\n",
    "        self.iteration = 0\n",
    "\n",
    "    def after_iteration(self, model, epoch, evals_log):\n",
    "        # 记录验证集指标\n",
    "        if self.validation in evals_log:\n",
    "            metrics = evals_log[self.validation]\n",
    "            writer.add_scalar('Loss/val', metrics['mlogloss'][-1], epoch)\n",
    "            writer.add_scalar('Accuracy/val', 1 - metrics['merror'][-1], epoch)\n",
    "        self.iteration += 1\n",
    "        return False\n",
    "\n",
    "# ---------------------------------------------------\n",
    "# 训练执行\n",
    "# ---------------------------------------------------\n",
    "dtrain = xgb.DMatrix(X_train, label=y_train)\n",
    "dval = xgb.DMatrix(X_test, label=y_test)\n",
    "\n",
    "bst = xgb.train(\n",
    "    params,\n",
    "    dtrain,\n",
    "    num_boost_round=200,\n",
    "    evals=[(dtrain, 'train'), (dval, 'val')],\n",
    "    callbacks=[TensorBoardCallback('val')],\n",
    "    early_stopping_rounds=20,  # 通过参数启用早停\n",
    "    verbose_eval=10\n",
    ")\n",
    "\n",
    "# ---------------------------------------------------\n",
    "# 模型评估\n",
    "# ---------------------------------------------------\n",
    "def evaluate(model, X_test, y_test):\n",
    "    dtest = xgb.DMatrix(X_test)\n",
    "    y_pred = model.predict(dtest).astype(int)\n",
    "    \n",
    "    # 转换回原始标签\n",
    "    y_test_labels = [reverse_mapping[y] for y in y_test]\n",
    "    y_pred_labels = [reverse_mapping[y] for y in y_pred]\n",
    "    \n",
    "    # 分类报告\n",
    "    print(\"\\nClassification Report:\")\n",
    "    print(classification_report(y_test_labels, y_pred_labels, target_names=label_mapping.keys()))\n",
    "    \n",
    "    # 混淆矩阵\n",
    "    cm = confusion_matrix(y_test_labels, y_pred_labels, labels=list(label_mapping.keys()))\n",
    "    plt.figure(figsize=(8,6))\n",
    "    sns.heatmap(cm, annot=True, fmt='d', cmap='Blues', \n",
    "                xticklabels=label_mapping.keys(),\n",
    "                yticklabels=label_mapping.keys())\n",
    "    plt.xlabel('Predicted')\n",
    "    plt.ylabel('True')\n",
    "    plt.title('Confusion Matrix')\n",
    "    plt.show()\n",
    "\n",
    "# 执行评估\n",
    "evaluate(bst, X_test, y_test)\n",
    "\n",
    "# ---------------------------------------------------\n",
    "# 资源清理\n",
    "# ---------------------------------------------------\n",
    "writer.close()\n",
    "bst.save_model('xgboost_cpu_model.json')\n",
    "\n",
    "print(\"训练完成！模型已保存为 xgboost_cpu_model.json\")"
   ]
  }
 ],
 "metadata": {
  "kernelspec": {
   "display_name": "pytorch",
   "language": "python",
   "name": "python3"
  },
  "language_info": {
   "codemirror_mode": {
    "name": "ipython",
    "version": 3
   },
   "file_extension": ".py",
   "mimetype": "text/x-python",
   "name": "python",
   "nbconvert_exporter": "python",
   "pygments_lexer": "ipython3",
   "version": "3.10.16"
  }
 },
 "nbformat": 4,
 "nbformat_minor": 5
}
